{
 "cells": [
  {
   "cell_type": "code",
   "execution_count": 4,
   "id": "8ddae8f1",
   "metadata": {},
   "outputs": [],
   "source": [
    "import os\n",
    "import matplotlib.pyplot as plt\n",
    "import joblib\n",
    "import numpy as np\n",
    "\n",
    "\n",
    "plt.style.use(\"fivethirtyeight\")"
   ]
  },
  {
   "cell_type": "code",
   "execution_count": 17,
   "id": "03e7c83b",
   "metadata": {},
   "outputs": [],
   "source": [
    "class Perceptron:\n",
    "    def __init__(self, eta:float=None, epochs:int=None):\n",
    "        self.weight = np.random.randn(3) * 1e-4\n",
    "        self.eta = eta #Learning rate\n",
    "        self.epochs = epochs #Iterations\n",
    "        \n",
    "    def fit(self, X, y):\n",
    "        self.X=X\n",
    "        self.y=y\n",
    "        \n",
    "        X_with_bias = np.c_[self.X, -np.ones((len(self.X),1))]\n",
    "        print(f\"x with bias: \\n{X_with_bias}\")"
   ]
  },
  {
   "cell_type": "code",
   "execution_count": 18,
   "id": "25cd68d9",
   "metadata": {},
   "outputs": [],
   "source": [
    "obj=Perceptron(eta=0.01, epochs=10)"
   ]
  },
  {
   "cell_type": "code",
   "execution_count": 19,
   "id": "7d616e8e",
   "metadata": {},
   "outputs": [
    {
     "data": {
      "text/plain": [
       "array([-3.99634175e-05, -4.01364424e-05,  1.04130274e-05])"
      ]
     },
     "execution_count": 19,
     "metadata": {},
     "output_type": "execute_result"
    }
   ],
   "source": [
    "obj.weight"
   ]
  },
  {
   "cell_type": "code",
   "execution_count": 25,
   "id": "0ff5eaeb",
   "metadata": {},
   "outputs": [],
   "source": [
    "X = np.ones((4,2))"
   ]
  },
  {
   "cell_type": "code",
   "execution_count": 20,
   "id": "07d373a9",
   "metadata": {},
   "outputs": [],
   "source": [
    "y=np.ones((4,1))"
   ]
  },
  {
   "cell_type": "code",
   "execution_count": 24,
   "id": "f4f17d85",
   "metadata": {},
   "outputs": [
    {
     "data": {
      "text/plain": [
       "array([[1.],\n",
       "       [1.],\n",
       "       [1.],\n",
       "       [1.]])"
      ]
     },
     "execution_count": 24,
     "metadata": {},
     "output_type": "execute_result"
    }
   ],
   "source": [
    "y"
   ]
  }
 ],
 "metadata": {
  "kernelspec": {
   "display_name": "Python 3 (ipykernel)",
   "language": "python",
   "name": "python3"
  },
  "language_info": {
   "codemirror_mode": {
    "name": "ipython",
    "version": 3
   },
   "file_extension": ".py",
   "mimetype": "text/x-python",
   "name": "python",
   "nbconvert_exporter": "python",
   "pygments_lexer": "ipython3",
   "version": "3.7.11"
  }
 },
 "nbformat": 4,
 "nbformat_minor": 5
}
